{
 "cells": [
  {
   "cell_type": "markdown",
   "id": "fe935495",
   "metadata": {
    "slideshow": {
     "slide_type": "skip"
    }
   },
   "source": [
    "$$\n",
    "\\newcommand{\\Lang}{\\mathcal{L}}\n",
    "\\newcommand{\\LangInt}{\\Lang_\\mathsf{int}}\n",
    "\\newcommand{\\LangVar}{\\Lang_\\mathsf{var}}\n",
    "\\newcommand{\\LangXInt}{\\mathrm{x86}_\\mathsf{int}}\n",
    "\\newcommand{\\LangXVar}{\\mathrm{x86}_\\mathsf{var}}\n",
    "\\newcommand{\\LangX}{\\mathrm{x86}}\n",
    "\\newcommand{\\INPUT}{\\texttt{input}\\_\\texttt{int}}\n",
    "\\newcommand{\\PRINT}[1]{\\texttt{print}( #1 )}\n",
    "\\newcommand{\\EXP}{\\texttt{Expr}}\n",
    "\\newcommand{\\CALL}[2]{\\EXP(\\texttt{Call}(\\texttt{Name}(\\texttt{'}#1\\texttt{'}), [ #2 ])}\n",
    "\\newcommand{\\CPRINT}[1]{\\CALL{\\texttt{print}}{#1}}\n",
    "\\newcommand{\\CINPUT}{\\CALL{\\INPUT}{}}\n",
    "\\newcommand{\\MODULE}[1]{\\texttt{Module}( #1 )}\n",
    "\\newcommand{\\CONST}{\\texttt{Constant}(int)}\n",
    "\\newcommand{\\NEG}[1]{\\texttt{UnaryOp}(\\texttt{USub}(), #1)}\n",
    "\\newcommand{\\UOP}[1]{\\texttt{UnaryOp}(\\texttt{unaryop}, #1)}\n",
    "\\newcommand{\\ADD}[2]{\\texttt{BinOp}(#1, \\texttt{Add}(), #2)}\n",
    "\\newcommand{\\SUB}[2]{\\texttt{BinOp}(#1, \\texttt{Sub}(), #2)}\n",
    "\\newcommand{\\BOP}[2]{\\texttt{BinOp}(#1, \\texttt{binaryop}, #2)}\n",
    "\\newcommand{\\VAR}[1]{\\texttt{Name}( #1 )}\n",
    "\\newcommand{\\ASSIGN}[2]{\\texttt{Assign}([\\texttt{Name}( #1 )], #2)}\n",
    "\\newcommand{\\RSP}{\\texttt{'rsp'}}\n",
    "\\newcommand{\\RBP}{\\texttt{'rbp'}}\n",
    "\\newcommand{\\RAX}{\\texttt{'rax'}}\n",
    "\\newcommand{\\RBX}{\\texttt{'rbx'}}\n",
    "\\newcommand{\\RCX}{\\texttt{'rcx'}}\n",
    "\\newcommand{\\RDX}{\\texttt{'rdx'}}\n",
    "\\newcommand{\\RSI}{\\texttt{'rsi'}}\n",
    "\\newcommand{\\RDI}{\\texttt{'rdi'}}\n",
    "\\newcommand{\\RN}[1]{\\texttt{'r#1'}}\n",
    "\\newcommand{\\ADDQ}[2]{\\texttt{addq}\\ #1, #2}\n",
    "\\newcommand{\\SUBQ}[2]{\\texttt{subq}\\ #1, #2}\n",
    "\\newcommand{\\NEGQ}[1]{\\texttt{negq}\\ #1}\n",
    "\\newcommand{\\MOVQ}[2]{\\texttt{movq}\\ #1, #2}\n",
    "\\newcommand{\\CALLQ}{\\texttt{Callq}(label,int)}\n",
    "\\newcommand{\\PUSHQ}[1]{\\texttt{pushq}\\ #1}\n",
    "\\newcommand{\\POPQ}[1]{\\texttt{popq}\\ #1}\n",
    "\\newcommand{\\RETQ}{\\texttt{Retq}()}\n",
    "\\newcommand{\\JUMP}{\\texttt{Jump}(label)}\n",
    "\\newcommand{\\INSTRun}[1]{\\texttt{Instr}(\\texttt{'#1'},[arg])}\n",
    "\\newcommand{\\INSTRbin}[1]{\\texttt{Instr}(\\texttt{'#1'},[arg,arg])}\n",
    "$$"
   ]
  },
  {
   "cell_type": "markdown",
   "id": "f8445a64",
   "metadata": {
    "slideshow": {
     "slide_type": "slide"
    }
   },
   "source": [
    "# Lektion 2: Zwischencodeoptimierung - Register Allocation"
   ]
  },
  {
   "cell_type": "markdown",
   "id": "e5fb3c10",
   "metadata": {
    "slideshow": {
     "slide_type": "skip"
    }
   },
   "source": [
    "===================================================================================================================="
   ]
  },
  {
   "cell_type": "markdown",
   "id": "2ed8bad4",
   "metadata": {
    "slideshow": {
     "slide_type": "slide"
    }
   },
   "source": [
    "#### Erinnerung\n",
    "\n",
    "- *bisher:* Programmvariablen wurden im `assign_homes`-Pass im Speicher verwaltet\n",
    "    - so nicht in der Praxis zu gebrauchen \n",
    "- **Registerzugriffe sind um vielfaches effizienter** als Speicherzugriffe\n",
    "- *aber:* nur 16 Register verfügbar"
   ]
  },
  {
   "cell_type": "markdown",
   "id": "ddf1be4b",
   "metadata": {
    "slideshow": {
     "slide_type": "fragment"
    }
   },
   "source": [
    "#### Ziel\n",
    "\n",
    "**Programmvariablen (weitestgehend) in Registern speichern**\n",
    "\n",
    "- *gesucht:* eine \"injektive Abbildung\" von Variablen auf Register (**Welche Bedingungen sollte diese Zuordnung erfüllen?**)\n",
    "- *klar:* i.A. mehr Variablen als Register\n",
    "    - *Was passiert in diesem Fall?*\n",
    "- daher ist ein \"cleveres\" Vorgehen nötig\n",
    "    - dafür benötigte Information: *Wann im Programmablauf wird welche Variable benutzt?*"
   ]
  },
  {
   "cell_type": "markdown",
   "id": "8368d7f0",
   "metadata": {
    "slideshow": {
     "slide_type": "skip"
    }
   },
   "source": [
    "===================================================================================================================="
   ]
  },
  {
   "cell_type": "markdown",
   "id": "d22aef11",
   "metadata": {
    "slideshow": {
     "slide_type": "slide"
    }
   },
   "source": [
    "## Live-Variable (Liveness Analysis)\n",
    "\n",
    "im Folgenden bezeichnen wir Variablen, Stackzugriffe und Register als **locations**\n",
    "\n",
    "#### Definitionen:\n",
    "Sei $I_1,...,I_n$ eine Folge von Instruktionen aus $\\LangXVar$, mit\n",
    "\n",
    "- $\\color{green}{W(k)}$ bezeichnen wir die Menge der locations die durch $I_k$ *beschrieben* werden\n",
    "- $\\color{green}{R(k)}$ bezeichnen wir die Menge der locations die durch $I_k$ *gelesen* werden\n",
    "- $\\color{green}{L_\\mathsf{before}(k)}$, $\\color{green}{L_\\mathsf{after}(k)}$ bezeichnen wir die Menge der locations die *vor* und *nach* $I_k$ live sind, diese sind dabei durch folgende Gleichungen definiert:\n",
    "\n",
    "$$\\begin{align}\n",
    "L_\\mathsf{after}(n) & = \\emptyset \\\\\n",
    "L_\\mathsf{before}(k) & = (L_\\mathsf{after}(k)\\setminus W(k))\\cup R(k) \\\\\n",
    "L_\\mathsf{after}(k) & = L_\\mathsf{before}(k+1) \n",
    "\\end{align}\n",
    "$$"
   ]
  },
  {
   "cell_type": "markdown",
   "id": "6e95b757",
   "metadata": {
    "slideshow": {
     "slide_type": "skip"
    }
   },
   "source": [
    "===================================================================================================================="
   ]
  },
  {
   "cell_type": "markdown",
   "id": "c7ca71f0",
   "metadata": {
    "cell_style": "split",
    "slideshow": {
     "slide_type": "subslide"
    }
   },
   "source": [
    "#### Beispiel\n",
    "\n",
    "```\n",
    " 1 movq $1, v\n",
    " 2 movq $42, w\n",
    " 3 movq v, x\n",
    " 4 addq $7, x\n",
    " 5 movq x, y\n",
    " 6 movq x, z\n",
    " 7 addq w, z\n",
    " 8 movq y, tmp_0\n",
    " 9 negq tmp_0\n",
    "10 movq z, tmp_1\n",
    "11 addq tmp_0, tmp_1\n",
    "12 movq tmp_1, %rdi\n",
    "13 callq print_int\n",
    "```"
   ]
  },
  {
   "cell_type": "markdown",
   "id": "2c0d91fb",
   "metadata": {
    "cell_style": "split"
   },
   "source": [
    "$$\\begin{align}\n",
    "L_\\mathsf{after}(n) & = \\emptyset \\\\\n",
    "L_\\mathsf{before}(k) & = (L_\\mathsf{after}(k)\\setminus W(k))\\cup R(k) \\\\\n",
    "L_\\mathsf{after}(k) & = L_\\mathsf{before}(k+1) \n",
    "\\end{align}\n",
    "$$"
   ]
  },
  {
   "cell_type": "markdown",
   "id": "a0b66aeb",
   "metadata": {
    "slideshow": {
     "slide_type": "skip"
    }
   },
   "source": [
    "===================================================================================================================="
   ]
  },
  {
   "cell_type": "markdown",
   "id": "430fd902",
   "metadata": {
    "slideshow": {
     "slide_type": "slide"
    }
   },
   "source": [
    "## Register Allocation mit Hilfe des Färbbarkeitsproblems für Graphen\n",
    "\n",
    "\n",
    "#### Idee\n",
    "\n",
    "- *locations*, die am selben Programmpunkt *live* sind, dürfen nicht dem selben Register zugeordnet werden\n",
    "    - diese Informationen lässt sich in einer Datenstruktur abbilden"
   ]
  },
  {
   "cell_type": "markdown",
   "id": "f925e333",
   "metadata": {
    "slideshow": {
     "slide_type": "skip"
    }
   },
   "source": [
    "===================================================================================================================="
   ]
  },
  {
   "cell_type": "markdown",
   "id": "a55a7394",
   "metadata": {
    "slideshow": {
     "slide_type": "subslide"
    }
   },
   "source": [
    "### Register Interference Graph (RIG)\n",
    "\n",
    "#### Definition\n",
    "\n",
    "Sei $I_1,...,I_n$ eine Folge von Instruktionen aus $\\LangXVar$. Ein RIG ist ein ungerichteter Graph $\\mathcal{G}=(V,E)$\n",
    "- dessen Knoten $V$ die locations sind und \n",
    "- die Kanten wie folgt für alle $i\\leq n$ definiert sind\n",
    "    1. Wenn $I_i=$ `movq s,d`, dann füge für jedes $v\\in L_\\mathsf{after}(i)$ mit $v\\neq s$ **und** $v\\neq d$ eine Kante $(d,v)$ hinzu\n",
    "    \n",
    "    2. Wenn $I_i$ ist keine `movq`-Instruktion, dann füge für jedes $v\\in W(i)$ und jedes $d\\in L_\\mathsf{after}(i)$ eine Kante $(v,d)$ hinzu, falls $v\\neq d$\n"
   ]
  },
  {
   "cell_type": "markdown",
   "id": "9bad74a3",
   "metadata": {
    "slideshow": {
     "slide_type": "fragment"
    }
   },
   "source": [
    "**Beispiel:** Tafel!"
   ]
  },
  {
   "cell_type": "markdown",
   "id": "e717a5d7",
   "metadata": {
    "slideshow": {
     "slide_type": "skip"
    }
   },
   "source": [
    "===================================================================================================================="
   ]
  },
  {
   "cell_type": "markdown",
   "id": "8c9f1ede",
   "metadata": {
    "slideshow": {
     "slide_type": "subslide"
    }
   },
   "source": [
    "#### Wie kann man den RIG nutzen?\n",
    "\n",
    "Einfach indem **je 2 Variablen $u,v$ die Nachbarn sind**, also $(u,v)\\in E$ gilt, **unterschiedliche Register** zugewiesen werden!"
   ]
  },
  {
   "cell_type": "markdown",
   "id": "3f712ba5",
   "metadata": {
    "slideshow": {
     "slide_type": "fragment"
    }
   },
   "source": [
    "**Hmm...?**"
   ]
  },
  {
   "cell_type": "markdown",
   "id": "2eae3402",
   "metadata": {
    "slideshow": {
     "slide_type": "fragment"
    }
   },
   "source": [
    "Das Problem ist doch bekannt!\n",
    "\n",
    "*Definition:* **$k$-färbbarkeits-Problem für Graphen**\n",
    "- geg.: ungerichteter Graph und $k$ Farben\n",
    "- Frage: Gibt es eine Zuordnung von Knoten zu Farben, so dass je 2 benachbarte Knoten nicht die gleiche Farbe haben?\n",
    "\n",
    "Färbbarkeit (für $k\\geq 3$) ist **NP-vollständig**! -> keine polynomiellen Algorithmen (bekannt)"
   ]
  },
  {
   "cell_type": "markdown",
   "id": "54e04590",
   "metadata": {
    "slideshow": {
     "slide_type": "fragment"
    }
   },
   "source": [
    "#### Was kann man tun?\n",
    "\n",
    "Einen heuristischen Ansatz benutzen, der sich als ausreichend performant in der Praxis herausgestellt hat."
   ]
  },
  {
   "cell_type": "markdown",
   "id": "40ce9959",
   "metadata": {
    "slideshow": {
     "slide_type": "skip"
    }
   },
   "source": [
    "===================================================================================================================="
   ]
  },
  {
   "cell_type": "markdown",
   "id": "86d5067a",
   "metadata": {
    "slideshow": {
     "slide_type": "subslide"
    }
   },
   "source": [
    "### Chaitins Algorithmus\n",
    "\n",
    "- letztlich ein **greedy**-Algorithmus zum \"Lösen\" des $k$-Färbbarkeitsproblems\n",
    "- Gregory Chaitin schlug erstmals vor, $k$-Färbbarkeit zum Lösen des register-allocation-Problems zu nutzen (1981)\n",
    "- vorher keine guten Algo. zum Lösen dieses Problems\n",
    "- die hier präsentierten Ideen sind z.B. im gcc im Einsatz\n",
    "- *hier:* zunächst erstmal nur in vereinfachter Form\n",
    "    - später werden wir noch Heuristiken zur Verbesserung des Algos. kennenlernen"
   ]
  },
  {
   "cell_type": "markdown",
   "id": "ec2d9bff",
   "metadata": {
    "cell_style": "split",
    "slideshow": {
     "slide_type": "fragment"
    }
   },
   "source": [
    "#### Idee\n",
    "\n",
    "- Annahme: Graph $\\mathcal{G}$ soll $k$-gefärbt werden\n",
    "- wähle eine Knoten mit weniger als $k$ Nachbarn und entferne diesen\n",
    "\n",
    "- nun gilt: Falls der resultierende Graph $k$-färbbar ist, dann auch $\\mathcal{G}$ \n",
    "\n",
    "**Warum**?    "
   ]
  },
  {
   "cell_type": "markdown",
   "id": "68df114b",
   "metadata": {
    "cell_style": "split",
    "slideshow": {
     "slide_type": "fragment"
    }
   },
   "source": [
    "#### Algo\n",
    "\n",
    "- Input: $k$ Register (das sind die Farben), RIG\n",
    "- wenn es noch mehr als einen Knoten gibt\n",
    "    - wähle Knoten mit weniger als $k$ Nachbarn und lege diesen auf einen Stack\n",
    "    - mache rekursiv weiter\n",
    "- färbe die Knoten in der Stack-Reihenfolge \n"
   ]
  },
  {
   "cell_type": "markdown",
   "id": "68fd53ee",
   "metadata": {
    "slideshow": {
     "slide_type": "skip"
    }
   },
   "source": [
    "===================================================================================================================="
   ]
  },
  {
   "cell_type": "markdown",
   "id": "a8768eaf",
   "metadata": {
    "slideshow": {
     "slide_type": "subslide"
    }
   },
   "source": [
    "#### Probleme\n",
    "\n",
    "- obiger Algo. ist letztlich ein polynomielles Verfahren, um einen Graphen zu färben, aber eine **Heuristik**\n",
    "    - beruht auf der Annahme, dass sich immer ein Knoten mit weniger als $k$ Nachbarn finden lässt \n",
    "    - sogenannte *optimistische Färbung*\n",
    "- *Was kann man tun, falls **kein** Knoten dieser Art gefunden wird oder der Graph überhaupt nicht färbbar ist?* ->"
   ]
  },
  {
   "cell_type": "markdown",
   "id": "568d2fdf",
   "metadata": {
    "slideshow": {
     "slide_type": "fragment"
    }
   },
   "source": [
    "**Spilling**\n",
    "\n",
    "- falls kein Knoten mit weniger als $k$ Nachbarn gefunden werden kann\n",
    "    - markiere einen als `possibly_spilled` und lege diesen auf den Stack\n",
    "    - verfahre weiter mit obigem Algo.\n",
    "    \n",
    "\n",
    "- *Beobachtung:* der ausgewählte Knoten kann im Färbungsprozess möglicherweise doch noch gefärbt werden, ansonsten wird ihm eine Speicheradresse zugewiesen"
   ]
  },
  {
   "cell_type": "markdown",
   "id": "0d071029",
   "metadata": {
    "slideshow": {
     "slide_type": "skip"
    }
   },
   "source": [
    "===================================================================================================================="
   ]
  },
  {
   "cell_type": "markdown",
   "id": "30dd9463",
   "metadata": {
    "slideshow": {
     "slide_type": "subslide"
    }
   },
   "source": [
    "#### Verbesserungen\n",
    "\n",
    "**Auswahl der zu *spillenden* Variable** -- Heuristiken:\n",
    "\n",
    "- Variablen mit den meisten Nachbarn zuerst\n",
    "- Variblen die wenig im Code benutzt werden\n",
    "- keine Variablen in Schleifen"
   ]
  },
  {
   "cell_type": "markdown",
   "id": "0aac5dee",
   "metadata": {
    "slideshow": {
     "slide_type": "fragment"
    }
   },
   "source": [
    "**Aufspalten von Live-Ranges**\n",
    "\n",
    "- **Variablen** die über \"weite Strecken\" inaktiv sind bei späterer wiederverwendung **umbenennen**\n",
    "- dann Graph färben"
   ]
  },
  {
   "cell_type": "markdown",
   "id": "f6769622",
   "metadata": {
    "slideshow": {
     "slide_type": "fragment"
    }
   },
   "source": [
    "**Coalescing**\n",
    "\n",
    "- *Beobachtung:* Falls `x,y` dem selben Register zugewiesen wurden, dann kann eine Instruktion `movq x,y` aus dem Code entfernt werden.\n",
    "- *Vorgehen:* \n",
    "    - zunächst speichern welche Variablen durch `movq`-Instruktionen verbunden sind (z.B. in Graph)\n",
    "    - beim Färben versuchen, Knoten die `movq`-verbunden sind, anderen Knoten vorzuziehen und diesen dann das gleiche Register zuweisen"
   ]
  },
  {
   "cell_type": "markdown",
   "id": "4c0306a3",
   "metadata": {
    "slideshow": {
     "slide_type": "skip"
    }
   },
   "source": [
    "===================================================================================================================="
   ]
  }
 ],
 "metadata": {
  "celltoolbar": "Slideshow",
  "kernelspec": {
   "display_name": "Python 3 (ipykernel)",
   "language": "python",
   "name": "python3"
  },
  "language_info": {
   "codemirror_mode": {
    "name": "ipython",
    "version": 3
   },
   "file_extension": ".py",
   "mimetype": "text/x-python",
   "name": "python",
   "nbconvert_exporter": "python",
   "pygments_lexer": "ipython3",
   "version": "3.10.6"
  }
 },
 "nbformat": 4,
 "nbformat_minor": 5
}
